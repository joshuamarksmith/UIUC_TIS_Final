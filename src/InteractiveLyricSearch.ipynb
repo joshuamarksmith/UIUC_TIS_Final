{
 "cells": [
  {
   "cell_type": "markdown",
   "metadata": {},
   "source": [
    "# Improved Media Content Search - Interactive Application"
   ]
  },
  {
   "cell_type": "markdown",
   "metadata": {},
   "source": [
    "Importing and loading dependencies, please wait...\n",
    "\n",
    "Note: `%%capture` jupyter flag is used to suppress output. If model fails to load, edit app and re-enable output."
   ]
  },
  {
   "cell_type": "code",
   "execution_count": 4,
   "metadata": {},
   "outputs": [],
   "source": [
    "%%capture\n",
    "!pip3 install tensorflow\n",
    "!pip3 install tensorflow_hub\n",
    "!pip3 install annoy\n",
    "!pip3 install pickle5\n",
    "\n",
    "import logging\n",
    "import numpy as np\n",
    "import pickle5 as pickle\n",
    "\n",
    "import tensorflow.compat.v1 as tf\n",
    "tf.disable_v2_behavior() \n",
    "tf.get_logger().setLevel(logging.ERROR)\n",
    "import tensorflow_hub as hub\n",
    "from annoy import AnnoyIndex\n",
    "\n",
    "from IPython.display import clear_output\n",
    "\n",
    "from sklearn import random_projection"
   ]
  },
  {
   "cell_type": "code",
   "execution_count": 5,
   "metadata": {},
   "outputs": [],
   "source": [
    "# Retrieves the embedding for a batch of sentences \n",
    "# Still needed to embed query data\n",
    "\n",
    "vector_length = 512\n",
    "index_file_name = \"annoy_index_512_20_trees\"\n",
    "\n",
    "embed_module = hub.Module(\"https://tfhub.dev/google/universal-sentence-encoder/1\")\n",
    "placeholder = tf.placeholder(dtype=tf.string)\n",
    "embed = embed_module(placeholder)\n",
    "session = tf.Session()\n",
    "session.run([tf.global_variables_initializer(), tf.tables_initializer()])\n",
    "transformer = random_projection.GaussianRandomProjection(vector_length)\n",
    "\n",
    "def get_embeddings(sentences):\n",
    "    \"\"\"Gets embeddings for a given line (document)\n",
    "    \"\"\"\n",
    "    \n",
    "    print(\"Getting embeddings...\")\n",
    "    embeddings = session.run(embed, feed_dict={placeholder: sentences})\n",
    "    \n",
    "    ## Reduction of dimensionality does not work - must use 512 vector length\n",
    "    # print(\"Reducing dimensionality...\")\n",
    "    # reduced_embeddings = transformer.fit_transform(embeddings)\n",
    "    \n",
    "    return embeddings"
   ]
  },
  {
   "cell_type": "markdown",
   "metadata": {},
   "source": [
    "# 1. Load the Model \n",
    "\n",
    "Loading the saved model..."
   ]
  },
  {
   "cell_type": "code",
   "execution_count": 5,
   "metadata": {},
   "outputs": [
    {
     "name": "stdout",
     "output_type": "stream",
     "text": [
      "annoy index loaded.\n",
      "mapping file loaded.\n"
     ]
    }
   ],
   "source": [
    "ann = AnnoyIndex(vector_length, metric='angular')\n",
    "ann.load(index_file_name, prefault=True)\n",
    "print('annoy index loaded.')\n",
    "with open(index_file_name + '.mapping', 'rb') as handle:\n",
    "    mapping = pickle.load(handle)\n",
    "print('mapping file loaded.')"
   ]
  },
  {
   "cell_type": "markdown",
   "metadata": {},
   "source": [
    "# 2. Interactive Application"
   ]
  },
  {
   "cell_type": "code",
   "execution_count": 6,
   "metadata": {},
   "outputs": [],
   "source": [
    "%%capture\n",
    "!pip install ipywidgets"
   ]
  },
  {
   "cell_type": "code",
   "execution_count": 7,
   "metadata": {},
   "outputs": [
    {
     "data": {
      "application/vnd.jupyter.widget-view+json": {
       "model_id": "7a82381bb61145f7b74d645f19ff942d",
       "version_major": 2,
       "version_minor": 0
      },
      "text/plain": [
       "TwoByTwoLayout(children=(Text(value='Sitting in my truck', description='Input query:', layout=Layout(grid_area…"
      ]
     },
     "metadata": {},
     "output_type": "display_data"
    },
    {
     "data": {
      "application/vnd.jupyter.widget-view+json": {
       "model_id": "9832d7b9b90b426fac924fc1bad793d9",
       "version_major": 2,
       "version_minor": 0
      },
      "text/plain": [
       "Output()"
      ]
     },
     "metadata": {},
     "output_type": "display_data"
    }
   ],
   "source": [
    "from IPython.display import display, clear_output\n",
    "import ipywidgets as widgets\n",
    "\n",
    "# Input for query and number of results\n",
    "query = widgets.Text(\n",
    "        value='Sitting in my truck',\n",
    "        description='Input query:')\n",
    "\n",
    "slider = widgets.IntSlider(\n",
    "         value=5,\n",
    "         min=0,\n",
    "         max=20,\n",
    "         step=1,\n",
    "         description='# of results:')      \n",
    "\n",
    "button = widgets.Button(description='Submit')\n",
    "interact = widgets.TwoByTwoLayout(top_left=query, top_right=button,\n",
    "                       bottom_left=slider)\n",
    "\n",
    "display(interact)\n",
    "\n",
    "out = widgets.Output()\n",
    "display(out)\n",
    "\n",
    "# define the action, should clear results and leave widget\n",
    "def on_button_click(b):\n",
    "    with out:\n",
    "        clear_output(wait=True)\n",
    "        user_query = query.value\n",
    "        print(\"running query...\")\n",
    "\n",
    "        query_embeddings = get_embeddings([user_query])[0]\n",
    "        nns = ann.get_nns_by_vector(query_embeddings, slider.value, include_distances=False)\n",
    "\n",
    "        print(\"Top {} results for \\'{}\\'\\n\".format(slider.value, query.value))\n",
    "        for idx, item in enumerate(nns):\n",
    "            print(\"{}. {} - {}:\".format(idx+1, mapping[item][1], mapping[item][2]))\n",
    "            for x in range(item-3, item+3):\n",
    "                if x == item:\n",
    "                    print(\"==== {} ====\".format(mapping[x][0]))\n",
    "                else:\n",
    "                    print(\"     {}     \".format(mapping[x][0]))\n",
    "\n",
    "            print(\"\\n\")\n",
    "\n",
    "button.on_click(on_button_click)\n"
   ]
  },
  {
   "cell_type": "code",
   "execution_count": null,
   "metadata": {},
   "outputs": [],
   "source": []
  },
  {
   "cell_type": "code",
   "execution_count": null,
   "metadata": {},
   "outputs": [],
   "source": []
  }
 ],
 "metadata": {
  "colab": {
   "collapsed_sections": [],
   "name": "CS410 Project Bae Area",
   "provenance": []
  },
  "kernelspec": {
   "display_name": "Python 3",
   "language": "python",
   "name": "python3"
  },
  "language_info": {
   "codemirror_mode": {
    "name": "ipython",
    "version": 3
   },
   "file_extension": ".py",
   "mimetype": "text/x-python",
   "name": "python",
   "nbconvert_exporter": "python",
   "pygments_lexer": "ipython3",
   "version": "3.6.8"
  }
 },
 "nbformat": 4,
 "nbformat_minor": 4
}
